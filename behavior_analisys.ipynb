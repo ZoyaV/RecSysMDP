{
 "cells": [
  {
   "cell_type": "code",
   "execution_count": 1,
   "id": "eaba4e2e",
   "metadata": {},
   "outputs": [],
   "source": [
    "import os\n",
    "os.environ[\"PROTOCOL_BUFFERS_PYTHON_IMPLEMENTATION\"] = 'python'\n",
    "import numpy as np\n",
    "\n",
    "from d3rlpy.algos import DiscreteCQL\n",
    "\n",
    "from recsys_mdp.recsys_mdp import RecSysMDP\n",
    "from recsys_mdp.utils import to_d3rlpy_form\n",
    "from recsys_mdp.d3rlpy_recsys_metrics import evaluate_in_positive, \\\n",
    "                                            evaluate_in_negative"
   ]
  },
  {
   "cell_type": "code",
   "execution_count": 2,
   "id": "ae6c1b2a",
   "metadata": {},
   "outputs": [
    {
     "name": "stdout",
     "output_type": "stream",
     "text": [
      "Data loaded!\n",
      "Data loaded!\n"
     ]
    }
   ],
   "source": [
    "mdp_train = RecSysMDP(load_from_file=True, path='./data/ml_100k_first_1000_train_90')\n",
    "mdp_test = RecSysMDP(load_from_file=True, path='./data/ml_100k_first_1000_test_74')\n",
    "#\n",
    "dataset_train = to_d3rlpy_form(mdp_train.states, mdp_train.rewards,\n",
    "                               mdp_train.actions, mdp_train.termations)\n",
    "\n",
    "dataset_test = to_d3rlpy_form(mdp_test.states, mdp_test.rewards,\n",
    "                               mdp_test.actions, mdp_test.termations)"
   ]
  },
  {
   "cell_type": "code",
   "execution_count": 3,
   "id": "60fa68b9",
   "metadata": {},
   "outputs": [],
   "source": [
    "algo = DiscreteCQL(use_gpu=True)"
   ]
  },
  {
   "cell_type": "code",
   "execution_count": 4,
   "id": "b9422890",
   "metadata": {},
   "outputs": [],
   "source": [
    "algo.build_with_dataset(dataset_train)\n",
    "algo.load_model('CQL.pt')"
   ]
  },
  {
   "cell_type": "code",
   "execution_count": 5,
   "id": "1e26ca73",
   "metadata": {},
   "outputs": [
    {
     "data": {
      "text/plain": [
       "array([0.8619744 , 0.5426975 , 0.30939713, 0.85273725, 0.20685284],\n",
       "      dtype=float32)"
      ]
     },
     "execution_count": 5,
     "metadata": {},
     "output_type": "execute_result"
    }
   ],
   "source": [
    "dataset_test[0].observations[0][:5]"
   ]
  },
  {
   "cell_type": "code",
   "execution_count": 6,
   "id": "02e94453",
   "metadata": {},
   "outputs": [],
   "source": [
    "item_mapping = mdp_train.item_mapping\n",
    "user_mapping = mdp_train.user_mapping\n",
    "inv_user_mapping = mdp_train.inv_user_mapping"
   ]
  },
  {
   "cell_type": "code",
   "execution_count": 7,
   "id": "12484efd",
   "metadata": {},
   "outputs": [
    {
     "data": {
      "text/plain": [
       "array([212])"
      ]
     },
     "execution_count": 7,
     "metadata": {},
     "output_type": "execute_result"
    }
   ],
   "source": [
    "algo.predict([dataset_test[0].observations[0]])"
   ]
  },
  {
   "cell_type": "code",
   "execution_count": 8,
   "id": "74a95fd7",
   "metadata": {},
   "outputs": [],
   "source": [
    "def step_by_step_top(new_observation, emb_size, top_k, item_mapping):\n",
    "    for i in range(top_k):\n",
    "        actions = algo.predict([new_observation])\n",
    "        action_embedding = item_mapping[actions[0]]\n",
    "       # print(action_embedding in new_observation)\n",
    "        idx = new_observation[-emb_size:]\n",
    "        new_observation = np.append(new_observation[emb_size:-emb_size], action_embedding, axis=0)\n",
    "        new_observation = np.append(new_observation, idx, axis=0)\n",
    "        \n",
    "        \n",
    "      #  print(new_observation[:10])\n",
    "       # print(new_observation[-10:])\n",
    "        yield actions[0]"
   ]
  },
  {
   "cell_type": "code",
   "execution_count": 10,
   "id": "dac0c280",
   "metadata": {},
   "outputs": [],
   "source": [
    "framestack = 5\n",
    "use_user_emb = 1\n",
    "emb_size = 64\n",
    "num_of_epiode = 1950\n",
    "generator = step_by_step_top(dataset_train[num_of_epiode].observations[5], 64, 10, item_mapping)\n",
    "pkey = dataset_train[num_of_epiode].observations[0].reshape(framestack + use_user_emb, emb_size)[-1]\n",
    "for okey in inv_user_mapping:\n",
    "    if np.mean(np.abs(np.asarray(pkey) - np.asarray(okey))) < 0.1:\n",
    "        key = okey\n",
    "user_idx = inv_user_mapping[tuple(key)]"
   ]
  },
  {
   "cell_type": "code",
   "execution_count": 11,
   "id": "fd2f9412",
   "metadata": {},
   "outputs": [],
   "source": [
    "df = mdp_train.dataframe\n",
    "items_of_user = df[df['user_idx'] == user_idx]['item_idx']\n",
    "#print(items_of_user)"
   ]
  },
  {
   "cell_type": "code",
   "execution_count": 12,
   "id": "01e99709",
   "metadata": {},
   "outputs": [
    {
     "name": "stdout",
     "output_type": "stream",
     "text": [
      "----------OUT  212\n",
      "----------OUT  212\n",
      "----------OUT  212\n",
      "----------OUT  212\n",
      "----------OUT  212\n",
      "----------OUT  212\n",
      "----------OUT  212\n",
      "----------OUT  212\n",
      "----------OUT  212\n",
      "----------OUT  212\n"
     ]
    }
   ],
   "source": [
    "user_log = df[df['user_idx'] == user_idx]\n",
    "for i in generator:\n",
    "    if i in items_of_user:\n",
    "        print(\"IN \",  i)\n",
    "        print(user_log[user_log['item_idx'] == i]['rating'].values)\n",
    "    else:\n",
    "         print(\"----------OUT \", i)"
   ]
  },
  {
   "cell_type": "code",
   "execution_count": 13,
   "id": "3adaad0f",
   "metadata": {},
   "outputs": [
    {
     "name": "stdout",
     "output_type": "stream",
     "text": [
      "IN  212\n",
      "[3.]\n",
      "IN  212\n",
      "[3.]\n",
      "IN  212\n",
      "[3.]\n",
      "IN  212\n",
      "[3.]\n",
      "IN  212\n",
      "[3.]\n",
      "IN  212\n",
      "[3.]\n",
      "IN  212\n",
      "[3.]\n",
      "IN  212\n",
      "[3.]\n",
      "IN  212\n",
      "[3.]\n",
      "IN  212\n",
      "[3.]\n"
     ]
    },
    {
     "ename": "IndexError",
     "evalue": "list index out of range",
     "output_type": "error",
     "traceback": [
      "\u001b[0;31m---------------------------------------------------------------------------\u001b[0m",
      "\u001b[0;31mIndexError\u001b[0m                                Traceback (most recent call last)",
      "Input \u001b[0;32mIn [13]\u001b[0m, in \u001b[0;36m<cell line: 6>\u001b[0;34m()\u001b[0m\n\u001b[1;32m      4\u001b[0m num_of_epiode \u001b[38;5;241m=\u001b[39m \u001b[38;5;241m0\u001b[39m\n\u001b[1;32m      6\u001b[0m \u001b[38;5;28;01mfor\u001b[39;00m num_of_epiode \u001b[38;5;129;01min\u001b[39;00m \u001b[38;5;28mrange\u001b[39m(\u001b[38;5;241m0\u001b[39m,\u001b[38;5;241m5000\u001b[39m, \u001b[38;5;241m150\u001b[39m):\n\u001b[0;32m----> 7\u001b[0m     generator \u001b[38;5;241m=\u001b[39m step_by_step_top(\u001b[43mdataset_train\u001b[49m\u001b[43m[\u001b[49m\u001b[43mnum_of_epiode\u001b[49m\u001b[43m]\u001b[49m\u001b[38;5;241m.\u001b[39mobservations[\u001b[38;5;241m5\u001b[39m], \u001b[38;5;241m64\u001b[39m, \u001b[38;5;241m10\u001b[39m, item_mapping)\n\u001b[1;32m      8\u001b[0m     pkey \u001b[38;5;241m=\u001b[39m dataset_train[num_of_epiode]\u001b[38;5;241m.\u001b[39mobservations[\u001b[38;5;241m0\u001b[39m]\u001b[38;5;241m.\u001b[39mreshape(framestack \u001b[38;5;241m+\u001b[39m use_user_emb, emb_size)[\u001b[38;5;241m-\u001b[39m\u001b[38;5;241m1\u001b[39m]\n\u001b[1;32m      9\u001b[0m     \u001b[38;5;28;01mfor\u001b[39;00m okey \u001b[38;5;129;01min\u001b[39;00m inv_user_mapping:\n",
      "File \u001b[0;32m~/d3rlpy/d3rlpy/dataset.pyx:596\u001b[0m, in \u001b[0;36md3rlpy.dataset.MDPDataset.__getitem__\u001b[0;34m()\u001b[0m\n",
      "\u001b[0;31mIndexError\u001b[0m: list index out of range"
     ]
    }
   ],
   "source": [
    "framestack = 5\n",
    "use_user_emb = 1\n",
    "emb_size = 64\n",
    "num_of_epiode = 0\n",
    "\n",
    "for num_of_epiode in range(0,5000, 150):\n",
    "    generator = step_by_step_top(dataset_train[num_of_epiode].observations[5], 64, 10, item_mapping)\n",
    "    pkey = dataset_train[num_of_epiode].observations[0].reshape(framestack + use_user_emb, emb_size)[-1]\n",
    "    for okey in inv_user_mapping:\n",
    "        if np.mean(np.abs(np.asarray(pkey) - np.asarray(okey))) < 0.1:\n",
    "            key = okey\n",
    "    user_idx = inv_user_mapping[tuple(key)]\n",
    "    df = mdp_train.dataframe\n",
    "    items_of_user = df[df['user_idx'] == user_idx]['item_idx']\n",
    "    user_log = df[df['user_idx'] == user_idx]\n",
    "    for i in generator:\n",
    "        if i in items_of_user:\n",
    "            print(\"IN \",  i)\n",
    "            print(user_log[user_log['item_idx'] == i]['rating'].values)\n",
    "#         else:\n",
    "#              print(\"----------OUT \", i)"
   ]
  },
  {
   "cell_type": "code",
   "execution_count": 331,
   "id": "6550e61b",
   "metadata": {},
   "outputs": [
    {
     "data": {
      "text/plain": [
       "5200"
      ]
     },
     "execution_count": 331,
     "metadata": {},
     "output_type": "execute_result"
    }
   ],
   "source": [
    "len(dataset_train)"
   ]
  },
  {
   "cell_type": "code",
   "execution_count": null,
   "id": "176ffbec",
   "metadata": {},
   "outputs": [],
   "source": []
  },
  {
   "cell_type": "code",
   "execution_count": 13,
   "id": "0c20a8ec",
   "metadata": {},
   "outputs": [
    {
     "data": {
      "text/plain": [
       "array([0.5063616 , 0.84323156, 0.15037137, 0.02437739, 0.46300983,\n",
       "       0.07075968, 0.10637806, 0.35955566, 0.36580744, 0.36928186,\n",
       "       0.9395704 , 0.46419388, 0.6277259 , 0.16913533, 0.7779768 ,\n",
       "       0.71310896, 0.7861116 , 0.3630307 , 0.7998114 , 0.58007914,\n",
       "       0.6490179 , 0.9313    , 0.16207871, 0.39254352, 0.96539474,\n",
       "       0.50316805, 0.20591237, 0.73959893, 0.8077247 , 0.14521034,\n",
       "       0.6526091 , 0.2828908 , 0.634223  , 0.63383204, 0.51470906,\n",
       "       0.5891453 , 0.5109552 , 0.89045566, 0.25270388, 0.27987373,\n",
       "       0.35095105, 0.41026044, 0.4526716 , 0.5976873 , 0.40879905,\n",
       "       0.9995152 , 0.53424555, 0.8711585 , 0.10440695, 0.20928983,\n",
       "       0.67888963, 0.55994135, 0.36137995, 0.81349474, 0.3208876 ,\n",
       "       0.5156317 , 0.0096271 , 0.34902433, 0.908778  , 0.79926336,\n",
       "       0.22688009, 0.71755666, 0.6385972 , 0.54383695], dtype=float32)"
      ]
     },
     "execution_count": 13,
     "metadata": {},
     "output_type": "execute_result"
    }
   ],
   "source": [
    "\n",
    "dataset_train[num_of_epiode].observations[0][:64]"
   ]
  },
  {
   "cell_type": "code",
   "execution_count": 14,
   "id": "a2c46c86",
   "metadata": {},
   "outputs": [
    {
     "data": {
      "text/plain": [
       "array([0.37687427, 0.5196445 , 0.60941964, 0.9279342 , 0.30972305,\n",
       "       0.53416365, 0.6269171 , 0.8819466 , 0.67475337, 0.2338695 ,\n",
       "       0.45984766, 0.6330028 , 0.5384787 , 0.40182602, 0.75296295,\n",
       "       0.64037824, 0.00234411, 0.68452555, 0.84262246, 0.45729417,\n",
       "       0.5991173 , 0.49228576, 0.41566038, 0.8686623 , 0.34751663,\n",
       "       0.35995212, 0.94489   , 0.55298185, 0.02874127, 0.40183535,\n",
       "       0.26483846, 0.58645535, 0.398687  , 0.2896845 , 0.7122024 ,\n",
       "       0.0617929 , 0.5249928 , 0.3157501 , 0.02001354, 0.6538085 ,\n",
       "       0.26967734, 0.26175678, 0.05694924, 0.7318533 , 0.06407281,\n",
       "       0.11246518, 0.23374292, 0.16564567, 0.6419434 , 0.94882864,\n",
       "       0.01491577, 0.8637892 , 0.5918122 , 0.64596766, 0.06548883,\n",
       "       0.17820129, 0.05943775, 0.6544852 , 0.26445168, 0.35675135,\n",
       "       0.08829141, 0.34504145, 0.864374  , 0.5673151 ], dtype=float32)"
      ]
     },
     "execution_count": 14,
     "metadata": {},
     "output_type": "execute_result"
    }
   ],
   "source": [
    "dataset_train[num_of_epiode].observations[0][128+128:128+128+64]"
   ]
  },
  {
   "cell_type": "code",
   "execution_count": null,
   "id": "9918c832",
   "metadata": {},
   "outputs": [],
   "source": []
  },
  {
   "cell_type": "code",
   "execution_count": 130,
   "id": "014468b9",
   "metadata": {},
   "outputs": [],
   "source": [
    "import rs_datasets\n",
    "ml = rs_datasets.MovieLens()\n",
    "raitings = ml.ratings"
   ]
  },
  {
   "cell_type": "code",
   "execution_count": null,
   "id": "6bfa1045",
   "metadata": {},
   "outputs": [],
   "source": []
  },
  {
   "cell_type": "code",
   "execution_count": 131,
   "id": "e63b1400",
   "metadata": {},
   "outputs": [],
   "source": [
    "keys = list(set(raitings['item_id']))\n",
    "item_mapping = dict(zip(keys, list(range(len(keys)))))\n",
    "raitings['items_idx'] = raitings['item_id'].apply(lambda x: item_mapping[x])\n",
    "keys = list(set(raitings['user_id']))\n",
    "item_mapping = dict(zip(keys, list(range(len(keys)))))\n",
    "raitings['user_idx'] = raitings['user_id'].apply(lambda x: item_mapping[x])"
   ]
  },
  {
   "cell_type": "code",
   "execution_count": 132,
   "id": "55e832fd",
   "metadata": {},
   "outputs": [],
   "source": []
  },
  {
   "cell_type": "code",
   "execution_count": 133,
   "id": "763501bf",
   "metadata": {},
   "outputs": [
    {
     "data": {
      "text/html": [
       "<div>\n",
       "<style scoped>\n",
       "    .dataframe tbody tr th:only-of-type {\n",
       "        vertical-align: middle;\n",
       "    }\n",
       "\n",
       "    .dataframe tbody tr th {\n",
       "        vertical-align: top;\n",
       "    }\n",
       "\n",
       "    .dataframe thead th {\n",
       "        text-align: right;\n",
       "    }\n",
       "</style>\n",
       "<table border=\"1\" class=\"dataframe\">\n",
       "  <thead>\n",
       "    <tr style=\"text-align: right;\">\n",
       "      <th></th>\n",
       "      <th>user_id</th>\n",
       "      <th>item_id</th>\n",
       "      <th>rating</th>\n",
       "      <th>timestamp</th>\n",
       "      <th>items_idx</th>\n",
       "      <th>user_idx</th>\n",
       "    </tr>\n",
       "  </thead>\n",
       "  <tbody>\n",
       "    <tr>\n",
       "      <th>0</th>\n",
       "      <td>1</td>\n",
       "      <td>1</td>\n",
       "      <td>4.0</td>\n",
       "      <td>964982703</td>\n",
       "      <td>0</td>\n",
       "      <td>0</td>\n",
       "    </tr>\n",
       "    <tr>\n",
       "      <th>1</th>\n",
       "      <td>1</td>\n",
       "      <td>3</td>\n",
       "      <td>4.0</td>\n",
       "      <td>964981247</td>\n",
       "      <td>2</td>\n",
       "      <td>0</td>\n",
       "    </tr>\n",
       "    <tr>\n",
       "      <th>2</th>\n",
       "      <td>1</td>\n",
       "      <td>6</td>\n",
       "      <td>4.0</td>\n",
       "      <td>964982224</td>\n",
       "      <td>5</td>\n",
       "      <td>0</td>\n",
       "    </tr>\n",
       "    <tr>\n",
       "      <th>3</th>\n",
       "      <td>1</td>\n",
       "      <td>47</td>\n",
       "      <td>5.0</td>\n",
       "      <td>964983815</td>\n",
       "      <td>46</td>\n",
       "      <td>0</td>\n",
       "    </tr>\n",
       "    <tr>\n",
       "      <th>4</th>\n",
       "      <td>1</td>\n",
       "      <td>50</td>\n",
       "      <td>5.0</td>\n",
       "      <td>964982931</td>\n",
       "      <td>49</td>\n",
       "      <td>0</td>\n",
       "    </tr>\n",
       "    <tr>\n",
       "      <th>...</th>\n",
       "      <td>...</td>\n",
       "      <td>...</td>\n",
       "      <td>...</td>\n",
       "      <td>...</td>\n",
       "      <td>...</td>\n",
       "      <td>...</td>\n",
       "    </tr>\n",
       "    <tr>\n",
       "      <th>100831</th>\n",
       "      <td>610</td>\n",
       "      <td>166534</td>\n",
       "      <td>4.0</td>\n",
       "      <td>1493848402</td>\n",
       "      <td>2291</td>\n",
       "      <td>609</td>\n",
       "    </tr>\n",
       "    <tr>\n",
       "      <th>100832</th>\n",
       "      <td>610</td>\n",
       "      <td>168248</td>\n",
       "      <td>5.0</td>\n",
       "      <td>1493850091</td>\n",
       "      <td>3714</td>\n",
       "      <td>609</td>\n",
       "    </tr>\n",
       "    <tr>\n",
       "      <th>100833</th>\n",
       "      <td>610</td>\n",
       "      <td>168250</td>\n",
       "      <td>5.0</td>\n",
       "      <td>1494273047</td>\n",
       "      <td>3716</td>\n",
       "      <td>609</td>\n",
       "    </tr>\n",
       "    <tr>\n",
       "      <th>100834</th>\n",
       "      <td>610</td>\n",
       "      <td>168252</td>\n",
       "      <td>5.0</td>\n",
       "      <td>1493846352</td>\n",
       "      <td>3718</td>\n",
       "      <td>609</td>\n",
       "    </tr>\n",
       "    <tr>\n",
       "      <th>100835</th>\n",
       "      <td>610</td>\n",
       "      <td>170875</td>\n",
       "      <td>3.0</td>\n",
       "      <td>1493846415</td>\n",
       "      <td>5531</td>\n",
       "      <td>609</td>\n",
       "    </tr>\n",
       "  </tbody>\n",
       "</table>\n",
       "<p>100836 rows × 6 columns</p>\n",
       "</div>"
      ],
      "text/plain": [
       "        user_id  item_id  rating   timestamp  items_idx  user_idx\n",
       "0             1        1     4.0   964982703          0         0\n",
       "1             1        3     4.0   964981247          2         0\n",
       "2             1        6     4.0   964982224          5         0\n",
       "3             1       47     5.0   964983815         46         0\n",
       "4             1       50     5.0   964982931         49         0\n",
       "...         ...      ...     ...         ...        ...       ...\n",
       "100831      610   166534     4.0  1493848402       2291       609\n",
       "100832      610   168248     5.0  1493850091       3714       609\n",
       "100833      610   168250     5.0  1494273047       3716       609\n",
       "100834      610   168252     5.0  1493846352       3718       609\n",
       "100835      610   170875     3.0  1493846415       5531       609\n",
       "\n",
       "[100836 rows x 6 columns]"
      ]
     },
     "execution_count": 133,
     "metadata": {},
     "output_type": "execute_result"
    }
   ],
   "source": [
    "raitings"
   ]
  },
  {
   "cell_type": "code",
   "execution_count": null,
   "id": "890e5b57",
   "metadata": {},
   "outputs": [],
   "source": []
  }
 ],
 "metadata": {
  "kernelspec": {
   "display_name": "Python 3 (ipykernel)",
   "language": "python",
   "name": "python3"
  },
  "language_info": {
   "codemirror_mode": {
    "name": "ipython",
    "version": 3
   },
   "file_extension": ".py",
   "mimetype": "text/x-python",
   "name": "python",
   "nbconvert_exporter": "python",
   "pygments_lexer": "ipython3",
   "version": "3.8.10"
  }
 },
 "nbformat": 4,
 "nbformat_minor": 5
}
